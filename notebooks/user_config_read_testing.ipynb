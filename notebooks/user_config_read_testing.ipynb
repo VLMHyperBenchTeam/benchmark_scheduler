{
 "cells": [
  {
   "cell_type": "code",
   "execution_count": 1,
   "metadata": {},
   "outputs": [],
   "source": [
    "import ast\n",
    "\n",
    "import pandas as pd"
   ]
  },
  {
   "cell_type": "code",
   "execution_count": 2,
   "metadata": {},
   "outputs": [],
   "source": [
    "config_path = \"../user_config.csv\"\n",
    "\n",
    "df = pd.read_csv(config_path, sep=\";\", encoding=\"utf-8-sig\")"
   ]
  },
  {
   "cell_type": "code",
   "execution_count": 3,
   "metadata": {},
   "outputs": [
    {
     "data": {
      "text/html": [
       "<div>\n",
       "<style scoped>\n",
       "    .dataframe tbody tr th:only-of-type {\n",
       "        vertical-align: middle;\n",
       "    }\n",
       "\n",
       "    .dataframe tbody tr th {\n",
       "        vertical-align: top;\n",
       "    }\n",
       "\n",
       "    .dataframe thead th {\n",
       "        text-align: right;\n",
       "    }\n",
       "</style>\n",
       "<table border=\"1\" class=\"dataframe\">\n",
       "  <thead>\n",
       "    <tr style=\"text-align: right;\">\n",
       "      <th></th>\n",
       "      <th>dataset</th>\n",
       "      <th>framework</th>\n",
       "      <th>model_family</th>\n",
       "      <th>model_name</th>\n",
       "      <th>docker_image</th>\n",
       "      <th>system_prompt</th>\n",
       "      <th>prompt_collection</th>\n",
       "      <th>metrics</th>\n",
       "      <th>only_evaluate_metrics</th>\n",
       "      <th>metrics_aggregators</th>\n",
       "      <th>filter_doc_class</th>\n",
       "      <th>filter_question_type</th>\n",
       "    </tr>\n",
       "  </thead>\n",
       "  <tbody>\n",
       "    <tr>\n",
       "      <th>0</th>\n",
       "      <td>Passport_MINI</td>\n",
       "      <td>Hugging Face</td>\n",
       "      <td>Qwen2-VL</td>\n",
       "      <td>Qwen2-VL-2B</td>\n",
       "      <td>ghcr.io/vlmhyperbenchteam/qwen2-vl:ubuntu22.04...</td>\n",
       "      <td>1.txt</td>\n",
       "      <td>AntonShiryaev.csv</td>\n",
       "      <td>['WER', 'CER', 'BLEU']</td>\n",
       "      <td>False</td>\n",
       "      <td>['by_id', 'by_doc_type', 'overall']</td>\n",
       "      <td>NaN</td>\n",
       "      <td>NaN</td>\n",
       "    </tr>\n",
       "    <tr>\n",
       "      <th>1</th>\n",
       "      <td>Passport_MINI</td>\n",
       "      <td>Hugging Face</td>\n",
       "      <td>Qwen2-VL</td>\n",
       "      <td>Qwen2-VL-7B</td>\n",
       "      <td>ghcr.io/vlmhyperbenchteam/qwen2-vl:ubuntu22.04...</td>\n",
       "      <td>NaN</td>\n",
       "      <td>AntonShiryaev.csv</td>\n",
       "      <td>['WER', 'CER', 'BLEU']</td>\n",
       "      <td>False</td>\n",
       "      <td>['by_id', 'by_doc_type', 'overall']</td>\n",
       "      <td>NaN</td>\n",
       "      <td>NaN</td>\n",
       "    </tr>\n",
       "  </tbody>\n",
       "</table>\n",
       "</div>"
      ],
      "text/plain": [
       "         dataset     framework model_family   model_name  \\\n",
       "0  Passport_MINI  Hugging Face     Qwen2-VL  Qwen2-VL-2B   \n",
       "1  Passport_MINI  Hugging Face     Qwen2-VL  Qwen2-VL-7B   \n",
       "\n",
       "                                        docker_image system_prompt  \\\n",
       "0  ghcr.io/vlmhyperbenchteam/qwen2-vl:ubuntu22.04...         1.txt   \n",
       "1  ghcr.io/vlmhyperbenchteam/qwen2-vl:ubuntu22.04...           NaN   \n",
       "\n",
       "   prompt_collection                 metrics  only_evaluate_metrics  \\\n",
       "0  AntonShiryaev.csv  ['WER', 'CER', 'BLEU']                  False   \n",
       "1  AntonShiryaev.csv  ['WER', 'CER', 'BLEU']                  False   \n",
       "\n",
       "                   metrics_aggregators  filter_doc_class  filter_question_type  \n",
       "0  ['by_id', 'by_doc_type', 'overall']               NaN                   NaN  \n",
       "1  ['by_id', 'by_doc_type', 'overall']               NaN                   NaN  "
      ]
     },
     "execution_count": 3,
     "metadata": {},
     "output_type": "execute_result"
    }
   ],
   "source": [
    "df"
   ]
  },
  {
   "cell_type": "code",
   "execution_count": 4,
   "metadata": {},
   "outputs": [
    {
     "data": {
      "text/plain": [
       "\"['WER', 'CER', 'BLEU']\""
      ]
     },
     "execution_count": 4,
     "metadata": {},
     "output_type": "execute_result"
    }
   ],
   "source": [
    "df['metrics'][0]"
   ]
  },
  {
   "cell_type": "code",
   "execution_count": 5,
   "metadata": {},
   "outputs": [
    {
     "data": {
      "text/plain": [
       "['WER', 'CER', 'BLEU']"
      ]
     },
     "execution_count": 5,
     "metadata": {},
     "output_type": "execute_result"
    }
   ],
   "source": [
    "# Преобразование строки в список\n",
    "python_list = ast.literal_eval(df['metrics'][0])\n",
    "python_list"
   ]
  },
  {
   "cell_type": "code",
   "execution_count": 6,
   "metadata": {},
   "outputs": [],
   "source": [
    "# Преобразование строк в списки\n",
    "df[\"metrics\"] = df[\"metrics\"].apply(ast.literal_eval)\n",
    "df[\"metrics_aggregators\"] = df[\"metrics_aggregators\"].apply(ast.literal_eval)"
   ]
  },
  {
   "cell_type": "code",
   "execution_count": 7,
   "metadata": {},
   "outputs": [],
   "source": [
    "csv_path = \"user_config_2.csv\"\n",
    "\n",
    "df.to_csv(csv_path, sep=\";\", encoding=\"utf-8-sig\", index=False)"
   ]
  }
 ],
 "metadata": {
  "kernelspec": {
   "display_name": "vlmhyperbench-oZr1iLfQ-py3.10",
   "language": "python",
   "name": "python3"
  },
  "language_info": {
   "codemirror_mode": {
    "name": "ipython",
    "version": 3
   },
   "file_extension": ".py",
   "mimetype": "text/x-python",
   "name": "python",
   "nbconvert_exporter": "python",
   "pygments_lexer": "ipython3",
   "version": "3.10.11"
  }
 },
 "nbformat": 4,
 "nbformat_minor": 2
}
